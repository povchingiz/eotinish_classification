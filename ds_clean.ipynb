{
 "cells": [
  {
   "cell_type": "code",
   "execution_count": null,
   "metadata": {
    "vscode": {
     "languageId": "plaintext"
    }
   },
   "outputs": [],
   "source": [
    "import pandas as pd\n",
    "import numpy as np"
   ]
  },
  {
   "cell_type": "code",
   "execution_count": null,
   "metadata": {
    "vscode": {
     "languageId": "plaintext"
    }
   },
   "outputs": [],
   "source": [
    "data = pd.read_csv(\"user_requests.csv\")"
   ]
  },
  {
   "cell_type": "code",
   "execution_count": null,
   "metadata": {
    "vscode": {
     "languageId": "plaintext"
    }
   },
   "outputs": [],
   "source": [
    "\n",
    "data.drop_duplicates(inplace=True)\n",
    "data.dropna(subset=['text'], inplace=True)\n",
    "\n",
    "data['text'] = data['text'].str.lower()\n",
    "data['text'] = data['text'].str.replace(r'\\d+', '', regex=True)\n",
    "data['text'] = data['text'].str.replace(r'[^\\w\\s]', '', regex=True)\n",
    "\n",
    "data['text'] = data['text'].str.strip()\n",
    "data['text'] = data['text'].str.replace(r'\\s+', ' ', regex=True)\n",
    "\n",
    "data = data[data['text'].str.len() > 2]\n",
    "\n",
    "data['category'] = data['category'].astype('category')\n",
    "data['text_length'] = data['text'].apply(len)\n",
    "data['word_count'] = data['text'].apply(lambda x: len(x.split()))\n",
    "\n",
    "data = data[(data['text_length'] < 500) & (data['word_count'] > 1)]\n",
    "data.reset_index(drop=True, inplace=True)\n"
   ]
  }
 ],
 "metadata": {
  "language_info": {
   "name": "python"
  }
 },
 "nbformat": 4,
 "nbformat_minor": 2
}
