{
 "cells": [
  {
   "cell_type": "code",
   "execution_count": 66,
   "id": "ad80d610-85c8-44f7-827b-d3ecc69fff26",
   "metadata": {},
   "outputs": [
    {
     "name": "stderr",
     "output_type": "stream",
     "text": [
      "Processing lines:   0%|                                                                    | 0/15732667 [00:00<?, ?it/s]"
     ]
    },
    {
     "name": "stdout",
     "output_type": "stream",
     "text": [
      "\n",
      "Field: \"23121902809485\"\n",
      "Which field does this belong to?\n",
      "1 -> id, 2 -> DATA, 3 -> name_tu_type, 4 -> date, 5 -> name_ru_org\n"
     ]
    },
    {
     "name": "stdin",
     "output_type": "stream",
     "text": [
      "Enter your choice (1-5):  1\n"
     ]
    },
    {
     "name": "stdout",
     "output_type": "stream",
     "text": [
      "\n",
      "Field: Выписка с индивидуального пенсионного счета\n",
      "Which field does this belong to?\n",
      "1 -> id, 2 -> DATA, 3 -> name_tu_type, 4 -> date, 5 -> name_ru_org\n"
     ]
    },
    {
     "name": "stdin",
     "output_type": "stream",
     "text": [
      "Enter your choice (1-5):  2\n"
     ]
    },
    {
     "name": "stdout",
     "output_type": "stream",
     "text": [
      "\n",
      "Field: Запрос\n",
      "Which field does this belong to?\n",
      "1 -> id, 2 -> DATA, 3 -> name_tu_type, 4 -> date, 5 -> name_ru_org\n"
     ]
    },
    {
     "name": "stdin",
     "output_type": "stream",
     "text": [
      "Enter your choice (1-5):  3\n"
     ]
    },
    {
     "name": "stdout",
     "output_type": "stream",
     "text": [
      "\n",
      "Field: \"2023/12/19 08:06:20.490209000\"\n",
      "Which field does this belong to?\n",
      "1 -> id, 2 -> DATA, 3 -> name_tu_type, 4 -> date, 5 -> name_ru_org\n"
     ]
    },
    {
     "name": "stdin",
     "output_type": "stream",
     "text": [
      "Enter your choice (1-5):  4\n"
     ]
    },
    {
     "name": "stdout",
     "output_type": "stream",
     "text": [
      "\n",
      "Field: \"Акционерное общество \"\"Единый накопительный пенсионный фонд\"\"\"\n",
      "Which field does this belong to?\n",
      "1 -> id, 2 -> DATA, 3 -> name_tu_type, 4 -> date, 5 -> name_ru_org\n"
     ]
    },
    {
     "name": "stdin",
     "output_type": "stream",
     "text": [
      "Enter your choice (1-5):  5\n"
     ]
    },
    {
     "name": "stderr",
     "output_type": "stream",
     "text": [
      "Processing lines:   0%|                                                     | 1/15732667 [00:40<177963:31:23, 40.72s/it]"
     ]
    },
    {
     "name": "stdout",
     "output_type": "stream",
     "text": [
      "\n",
      "Field: \"23121902809482\"\n",
      "Which field does this belong to?\n",
      "1 -> id, 2 -> DATA, 3 -> name_tu_type, 4 -> date, 5 -> name_ru_org\n"
     ]
    },
    {
     "name": "stdin",
     "output_type": "stream",
     "text": [
      "Enter your choice (1-5):  1\n"
     ]
    },
    {
     "name": "stdout",
     "output_type": "stream",
     "text": [
      "\n",
      "Field: HIDDEN первую очередь пустить автобус ,  оборудовать остановки\n",
      "Which field does this belong to?\n",
      "1 -> id, 2 -> DATA, 3 -> name_tu_type, 4 -> date, 5 -> name_ru_org\n"
     ]
    },
    {
     "name": "stdin",
     "output_type": "stream",
     "text": [
      "Enter your choice (1-5):  2\n"
     ]
    },
    {
     "name": "stdout",
     "output_type": "stream",
     "text": [
      "\n",
      "Field: Заявление\n",
      "Which field does this belong to?\n",
      "1 -> id, 2 -> DATA, 3 -> name_tu_type, 4 -> date, 5 -> name_ru_org\n"
     ]
    },
    {
     "name": "stdin",
     "output_type": "stream",
     "text": [
      "Enter your choice (1-5):  3\n"
     ]
    },
    {
     "name": "stdout",
     "output_type": "stream",
     "text": [
      "\n",
      "Field: \"2023/12/19 08:03:11.131384000\"\n",
      "Which field does this belong to?\n",
      "1 -> id, 2 -> DATA, 3 -> name_tu_type, 4 -> date, 5 -> name_ru_org\n"
     ]
    },
    {
     "name": "stdin",
     "output_type": "stream",
     "text": [
      "Enter your choice (1-5):  4\n"
     ]
    },
    {
     "name": "stdout",
     "output_type": "stream",
     "text": [
      "\n",
      "Field: \"Коммунальное государственное учреждение \"\"Аппарат Акима города Алматы\"\"\"\n",
      "Which field does this belong to?\n",
      "1 -> id, 2 -> DATA, 3 -> name_tu_type, 4 -> date, 5 -> name_ru_org\n"
     ]
    },
    {
     "name": "stdin",
     "output_type": "stream",
     "text": [
      "Enter your choice (1-5):  5\n"
     ]
    },
    {
     "name": "stderr",
     "output_type": "stream",
     "text": [
      "Processing lines:   0%|                                                     | 2/15732667 [00:54<107565:25:45, 24.61s/it]"
     ]
    },
    {
     "name": "stdout",
     "output_type": "stream",
     "text": [
      "\n",
      "Field: \"23121902809480\"\n",
      "Which field does this belong to?\n",
      "1 -> id, 2 -> DATA, 3 -> name_tu_type, 4 -> date, 5 -> name_ru_org\n"
     ]
    },
    {
     "name": "stdin",
     "output_type": "stream",
     "text": [
      "Enter your choice (1-5):  1\n"
     ]
    },
    {
     "name": "stdout",
     "output_type": "stream",
     "text": [
      "\n",
      "Field: Заявление HIDDEN .  о предоставлении информации\n",
      "Which field does this belong to?\n",
      "1 -> id, 2 -> DATA, 3 -> name_tu_type, 4 -> date, 5 -> name_ru_org\n"
     ]
    },
    {
     "name": "stdin",
     "output_type": "stream",
     "text": [
      "Enter your choice (1-5):  2\n"
     ]
    },
    {
     "name": "stdout",
     "output_type": "stream",
     "text": [
      "\n",
      "Field: Заявление\n",
      "Which field does this belong to?\n",
      "1 -> id, 2 -> DATA, 3 -> name_tu_type, 4 -> date, 5 -> name_ru_org\n"
     ]
    },
    {
     "name": "stdin",
     "output_type": "stream",
     "text": [
      "Enter your choice (1-5):  3\n"
     ]
    },
    {
     "name": "stdout",
     "output_type": "stream",
     "text": [
      "\n",
      "Field: \"2023/12/19 08:01:57.882288000\"\n",
      "Which field does this belong to?\n",
      "1 -> id, 2 -> DATA, 3 -> name_tu_type, 4 -> date, 5 -> name_ru_org\n"
     ]
    },
    {
     "name": "stdin",
     "output_type": "stream",
     "text": [
      "Enter your choice (1-5):  4\n"
     ]
    },
    {
     "name": "stdout",
     "output_type": "stream",
     "text": [
      "\n",
      "Field: Костанайский областной филиал АО «ЕНПФ»\n",
      "Which field does this belong to?\n",
      "1 -> id, 2 -> DATA, 3 -> name_tu_type, 4 -> date, 5 -> name_ru_org\n"
     ]
    },
    {
     "name": "stdin",
     "output_type": "stream",
     "text": [
      "Enter your choice (1-5):  5\n"
     ]
    },
    {
     "name": "stderr",
     "output_type": "stream",
     "text": [
      "Processing lines:   0%|                                                      | 3/15732667 [01:00<71472:06:59, 16.35s/it]"
     ]
    },
    {
     "name": "stdout",
     "output_type": "stream",
     "text": [
      "\n",
      "Field: \"23121902809479\"\n",
      "Which field does this belong to?\n",
      "1 -> id, 2 -> DATA, 3 -> name_tu_type, 4 -> date, 5 -> name_ru_org\n"
     ]
    },
    {
     "name": "stdin",
     "output_type": "stream",
     "text": [
      "Enter your choice (1-5):  1\n"
     ]
    },
    {
     "name": "stdout",
     "output_type": "stream",
     "text": [
      "\n",
      "Field: ** л ауыз судың бұзылып , шірігені бойынша арыздана отырып ,  заңды түрде шара қолдануды сұрайды . \n",
      "Which field does this belong to?\n",
      "1 -> id, 2 -> DATA, 3 -> name_tu_type, 4 -> date, 5 -> name_ru_org\n"
     ]
    },
    {
     "name": "stdin",
     "output_type": "stream",
     "text": [
      "Enter your choice (1-5):  2\n"
     ]
    },
    {
     "name": "stdout",
     "output_type": "stream",
     "text": [
      "\n",
      "Field: Заявление\n",
      "Which field does this belong to?\n",
      "1 -> id, 2 -> DATA, 3 -> name_tu_type, 4 -> date, 5 -> name_ru_org\n"
     ]
    },
    {
     "name": "stdin",
     "output_type": "stream",
     "text": [
      "Enter your choice (1-5):  3\n"
     ]
    },
    {
     "name": "stdout",
     "output_type": "stream",
     "text": [
      "\n",
      "Field: \"2023/12/19 08:01:52.343114000\"\n",
      "Which field does this belong to?\n",
      "1 -> id, 2 -> DATA, 3 -> name_tu_type, 4 -> date, 5 -> name_ru_org\n"
     ]
    },
    {
     "name": "stdin",
     "output_type": "stream",
     "text": [
      "Enter your choice (1-5):  4\n"
     ]
    },
    {
     "name": "stdout",
     "output_type": "stream",
     "text": [
      "\n",
      "Field: Атырауское городское управление санитарно-эпидемиологического контроля\n",
      "Which field does this belong to?\n",
      "1 -> id, 2 -> DATA, 3 -> name_tu_type, 4 -> date, 5 -> name_ru_org\n"
     ]
    },
    {
     "name": "stdin",
     "output_type": "stream",
     "text": [
      "Enter your choice (1-5):  5\n"
     ]
    },
    {
     "name": "stderr",
     "output_type": "stream",
     "text": [
      "Processing lines:   0%|                                                      | 4/15732667 [01:10<59906:48:22, 13.71s/it]"
     ]
    },
    {
     "name": "stdout",
     "output_type": "stream",
     "text": [
      "\n",
      "Field: \"23121902809478\"\n",
      "Which field does this belong to?\n",
      "1 -> id, 2 -> DATA, 3 -> name_tu_type, 4 -> date, 5 -> name_ru_org\n"
     ]
    },
    {
     "name": "stderr",
     "output_type": "stream",
     "text": [
      "Processing lines:   0%|                                                   | 4/15732667 [19:23<1270676:55:21, 290.76s/it]\n",
      "\n",
      "KeyboardInterrupt\n",
      "\n"
     ]
    }
   ],
   "source": [
    "import csv\n",
    "import pandas as pd\n",
    "from tqdm import tqdm\n",
    "\n",
    "# Placeholder for file paths\n",
    "input_file = '../classi_bank/eobr_enrichhed.csv'  # Replace with your input file path\n",
    "output_file = '../classi_bank/final_output.csv'  # Replace with your desired output file path\n",
    "\n",
    "# Define column names for the structured data\n",
    "columns = ['id', 'DATA', 'name_tu_type', 'date', 'name_ru_org']\n",
    "\n",
    "# Function to map integers to column names\n",
    "def get_field_by_input(user_input):\n",
    "    field_mapping = {\n",
    "        1: 'id',\n",
    "        2: 'DATA',\n",
    "        3: 'name_tu_type',\n",
    "        4: 'date',\n",
    "        5: 'name_ru_org'\n",
    "    }\n",
    "    return field_mapping.get(user_input, None)\n",
    "\n",
    "# Initialize the output file with the header\n",
    "with open(output_file, 'w', encoding='utf-8', newline='') as f:\n",
    "    writer = csv.writer(f, delimiter=';')\n",
    "    writer.writerow(columns)  # Write header row\n",
    "\n",
    "# Process the file line by line\n",
    "records = []  # List to store 100 processed records\n",
    "current_record = {col: '' for col in columns}  # Initialize an empty record\n",
    "\n",
    "with open(input_file, 'r', encoding='utf-8') as file:\n",
    "    total_lines = sum(1 for _ in file)  # Count total lines for progress bar\n",
    "    file.seek(0)  # Reset file pointer to start\n",
    "\n",
    "    # Skip the header row\n",
    "    next(file)\n",
    "\n",
    "    # Use tqdm to track progress\n",
    "    for i, line in enumerate(tqdm(file, total=total_lines, desc=\"Processing lines\")):\n",
    "        line = line.strip()\n",
    "        fields = line.split(';')  # Split the line by semicolon\n",
    "\n",
    "        # Process each field in the line\n",
    "        for field in fields:\n",
    "            if field.strip():\n",
    "                print(f\"\\nField: {field}\")\n",
    "                print(\"Which field does this belong to?\")\n",
    "                print(\"1 -> id, 2 -> DATA, 3 -> name_tu_type, 4 -> date, 5 -> name_ru_org\")\n",
    "\n",
    "                # Get user input\n",
    "                try:\n",
    "                    user_input = int(input(\"Enter your choice (1-5): \").strip())\n",
    "                    field_name = get_field_by_input(user_input)\n",
    "\n",
    "                    if field_name:\n",
    "                        # Append the value to the corresponding field in the record\n",
    "                        if field_name == 'id' and current_record['id']:\n",
    "                            # If `id` is already filled, save the current record and start a new one\n",
    "                            records.append(current_record)\n",
    "                            if len(records) >= 100:\n",
    "                                # Save to file if we have 100 records\n",
    "                                df_chunk = pd.DataFrame(records, columns=columns)\n",
    "                                df_chunk.to_csv(output_file, mode='a', index=False, header=False, sep=';', encoding='utf-8')\n",
    "                                records = []  # Clear records after writing\n",
    "                            current_record = {col: '' for col in columns}  # Start a new record\n",
    "\n",
    "                        current_record[field_name] += (field if not current_record[field_name] else ' ' + field)\n",
    "                    else:\n",
    "                        print(\"Invalid input. Skipping this field.\")\n",
    "                except ValueError:\n",
    "                    print(\"Invalid input. Please enter an integer between 1 and 5.\")\n",
    "                    continue\n",
    "\n",
    "    # Save the last record\n",
    "    if any(current_record.values()):\n",
    "        records.append(current_record)\n",
    "\n",
    "    # Save any remaining records\n",
    "    if records:\n",
    "        df_chunk = pd.DataFrame(records, columns=columns)\n",
    "        df_chunk.to_csv(output_file, mode='a', index=False, header=False, sep=';', encoding='utf-8')\n",
    "\n",
    "print(\"Processing complete. Data saved to:\", output_file)\n"
   ]
  },
  {
   "cell_type": "code",
   "execution_count": 7,
   "id": "7abe881d-7d16-478a-ae43-72772ba50104",
   "metadata": {},
   "outputs": [
    {
     "name": "stderr",
     "output_type": "stream",
     "text": [
      "Processing lines: 15732667it [07:54, 33156.57it/s]\n"
     ]
    },
    {
     "name": "stdout",
     "output_type": "stream",
     "text": [
      "Processing complete. 3108676 records saved to ../classi_bank/final_output.csv.\n"
     ]
    }
   ],
   "source": [
    "import csv\n",
    "import re\n",
    "from tqdm import tqdm\n",
    "\n",
    "# Placeholder for input and output file paths\n",
    "input_file = \"../classi_bank/eobr_enrichhed.csv\"  # Replace with your input file path\n",
    "output_file = \"../classi_bank/final_output.csv\"  # Replace with your desired output file path\n",
    "\n",
    "# Define column names for the structured data\n",
    "columns = ['id', 'DATA', 'name_tu_type', 'date', 'name_ru_org']\n",
    "\n",
    "# Function to validate ID\n",
    "def is_valid_id(field):\n",
    "    return bool(re.match(r'^\"\\d{14}\"$', field.strip()))\n",
    "\n",
    "# Process the file one record at a time\n",
    "with open(input_file, 'r', encoding='utf-8') as file, open(output_file, 'w', encoding='utf-8', newline='') as output:\n",
    "    writer = csv.DictWriter(output, fieldnames=columns, delimiter=';')\n",
    "    writer.writeheader()  # Write the header once\n",
    "\n",
    "    current_record = []  # To hold the current record\n",
    "    records_processed = 0  # Counter for processed records\n",
    "\n",
    "    for line in tqdm(file, desc=\"Processing lines\"):\n",
    "        line = line.strip()\n",
    "        if not line:\n",
    "            continue  # Skip empty lines\n",
    "\n",
    "        # Check if the line starts with a valid ID\n",
    "        if is_valid_id(line.split(';')[0]):\n",
    "            # Process the previous record if it exists\n",
    "            if current_record:\n",
    "                full_record = ' '.join(current_record)  # Join all parts of the record\n",
    "                fields = full_record.split(';')  # Split by semicolon\n",
    "\n",
    "                # Map the fields to the DataFrame structure\n",
    "                row = {\n",
    "                    'id': fields[0].strip('\"') if len(fields) > 0 else '',\n",
    "                    'DATA': fields[1] if len(fields) > 1 else '',\n",
    "                    'name_tu_type': fields[2] if len(fields) > 2 else '',\n",
    "                    'date': fields[3] if len(fields) > 3 else '',\n",
    "                    'name_ru_org': fields[4] if len(fields) > 4 else ''\n",
    "                }\n",
    "                writer.writerow(row)  # Write the row to the output file\n",
    "                records_processed += 1\n",
    "\n",
    "            # Reset for the new record\n",
    "            current_record = [line]\n",
    "        else:\n",
    "            # Append non-ID lines to the current record\n",
    "            current_record.append(line)\n",
    "\n",
    "    # Process the last record after finishing the loop\n",
    "    if current_record:\n",
    "        full_record = ' '.join(current_record)\n",
    "        fields = full_record.split(';')\n",
    "\n",
    "        # Map the fields to the DataFrame structure\n",
    "        row = {\n",
    "            'id': fields[0].strip('\"') if len(fields) > 0 else '',\n",
    "            'DATA': fields[1] if len(fields) > 1 else '',\n",
    "            'name_tu_type': fields[2] if len(fields) > 2 else '',\n",
    "            'date': fields[3] if len(fields) > 3 else '',\n",
    "            'name_ru_org': fields[4] if len(fields) > 4 else ''\n",
    "        }\n",
    "        writer.writerow(row)\n",
    "        records_processed += 1\n",
    "\n",
    "print(f\"Processing complete. {records_processed} records saved to {output_file}.\")\n"
   ]
  },
  {
   "cell_type": "code",
   "execution_count": 10,
   "id": "7403de02-b46d-48aa-8b1b-e7391b32eb83",
   "metadata": {},
   "outputs": [],
   "source": [
    "che = pd.read_csv(output_file,nrows=100,on_bad_lines='skip')"
   ]
  },
  {
   "cell_type": "code",
   "execution_count": 11,
   "id": "150766c4-92af-4100-865a-1189a286bb97",
   "metadata": {},
   "outputs": [
    {
     "data": {
      "text/plain": [
       "<bound method NDFrame.head of                 id;DATA;name_tu_type;date;name_ru_org\n",
       "0   id;\"\"\"DATA\"\"\";\"\"\"name_tu_type\"\"\";\"\"\"date_\"\"\";\"...\n",
       "1   23121902809485;Выписка с индивидуального пенси...\n",
       "2   23121902809480;Заявление HIDDEN .  о предостав...\n",
       "3   23121902809477;Просит дать разрешение на прове...\n",
       "4   23121902809474;Заявление на выдачу подтвержден...\n",
       "..                                                ...\n",
       "95  23121902809149;На действия сотрудников Учрежде...\n",
       "96  23121902809148;HIDDEN пәні мұғалімі HIDDEN БЛЖ...\n",
       "97  23121902809146;Прошу вас предоставить квартиру...\n",
       "98  23121902809143;пояснение по установке огражден...\n",
       "99  23121902809141;Заявление о привлечении пластич...\n",
       "\n",
       "[100 rows x 1 columns]>"
      ]
     },
     "execution_count": 11,
     "metadata": {},
     "output_type": "execute_result"
    }
   ],
   "source": [
    "che.head"
   ]
  },
  {
   "cell_type": "code",
   "execution_count": 9,
   "id": "a1cf7f98-9b2a-49ed-a2e9-a8021965e808",
   "metadata": {},
   "outputs": [
    {
     "name": "stdout",
     "output_type": "stream",
     "text": [
      "Data successfully processed and saved to ../classi_bank/final_output.csv.\n"
     ]
    }
   ],
   "source": [
    "import pandas as pd\n",
    "\n",
    "# Placeholder for input and output file paths\n",
    "input_file = \"../classi_bank/sorted.csv\"  # Replace with your input file path\n",
    "output_file = \"../classi_bank/final_output.csv\"  # Replace with your desired output file path\n",
    "\n",
    "# Read the file with Pandas\n",
    "try:\n",
    "    # Read the file into a DataFrame\n",
    "    df = pd.read_csv(input_file, header=None,nrows = 100, encoding='utf-8', on_bad_lines='skip')\n",
    "\n",
    "    # Split the first column into multiple columns using ';' as the separator\n",
    "    df_split = df.iloc[:, 0].str.split(';', expand=True)\n",
    "\n",
    "    # Use the first row as column headers (optional, depends on your data structure)\n",
    "    df_split.columns = df_split.iloc[0]  # Set the first row as headers\n",
    "    df_split = df_split[1:]  # Drop the header row from the data\n",
    "\n",
    "    # Save the resulting DataFrame to the output CSV\n",
    "    df_split.to_csv(output_file, index=False, sep=';', encoding='utf-8')\n",
    "    print(f\"Data successfully processed and saved to {output_file}.\")\n",
    "\n",
    "except Exception as e:\n",
    "    print(f\"Error reading or processing the file: {e}\")\n"
   ]
  },
  {
   "cell_type": "code",
   "execution_count": 11,
   "id": "b7f29e26-1c93-4629-84bc-0db1d5d95c5b",
   "metadata": {},
   "outputs": [
    {
     "data": {
      "text/html": [
       "<div>\n",
       "<style scoped>\n",
       "    .dataframe tbody tr th:only-of-type {\n",
       "        vertical-align: middle;\n",
       "    }\n",
       "\n",
       "    .dataframe tbody tr th {\n",
       "        vertical-align: top;\n",
       "    }\n",
       "\n",
       "    .dataframe thead th {\n",
       "        text-align: right;\n",
       "    }\n",
       "</style>\n",
       "<table border=\"1\" class=\"dataframe\">\n",
       "  <thead>\n",
       "    <tr style=\"text-align: right;\">\n",
       "      <th></th>\n",
       "      <th>id</th>\n",
       "      <th>DATA</th>\n",
       "      <th>name_tu_type</th>\n",
       "      <th>date</th>\n",
       "      <th>name_ru_org</th>\n",
       "    </tr>\n",
       "  </thead>\n",
       "  <tbody>\n",
       "    <tr>\n",
       "      <th>1</th>\n",
       "      <td>id</td>\n",
       "      <td>\"\"\"DATA\"\"\"</td>\n",
       "      <td>\"\"\"name_tu_type\"\"\"</td>\n",
       "      <td>\"\"\"date_\"\"\"</td>\n",
       "      <td>\"\"\"name_ru_org\"\"\"</td>\n",
       "    </tr>\n",
       "    <tr>\n",
       "      <th>2</th>\n",
       "      <td>23121902809485</td>\n",
       "      <td>Выписка с индивидуального пенсионного счета</td>\n",
       "      <td>Запрос</td>\n",
       "      <td>\"\"\"2023/12/19 08:06:20.490209000\"\"\"</td>\n",
       "      <td>\"\"\"Акционерное общество \"\"\"\"Единый накопительн...</td>\n",
       "    </tr>\n",
       "    <tr>\n",
       "      <th>3</th>\n",
       "      <td>23121902809480</td>\n",
       "      <td>Заявление HIDDEN .  о предоставлении информации</td>\n",
       "      <td>Заявление</td>\n",
       "      <td>\"\"\"2023/12/19 08:01:57.882288000\"\"\"</td>\n",
       "      <td>Костанайский областной филиал АО «ЕНПФ»</td>\n",
       "    </tr>\n",
       "    <tr>\n",
       "      <th>4</th>\n",
       "      <td>23121902809477</td>\n",
       "      <td>Просит дать разрешение на проведение мероприят...</td>\n",
       "      <td>Заявление</td>\n",
       "      <td>\"\"\"2023/12/19 08:01:10.859904000\"\"\"</td>\n",
       "      <td>\"\"\"Государственное учреждение \"\"\"\"Аппарат аким...</td>\n",
       "    </tr>\n",
       "    <tr>\n",
       "      <th>5</th>\n",
       "      <td>23121902809474</td>\n",
       "      <td>Заявление на выдачу подтверждения профессионал...</td>\n",
       "      <td>Заявление</td>\n",
       "      <td>\"\"\"2023/12/19 08:00:44.145921000\"\"\"</td>\n",
       "      <td>Республиканское государственное учреждение «Мо...</td>\n",
       "    </tr>\n",
       "    <tr>\n",
       "      <th>...</th>\n",
       "      <td>...</td>\n",
       "      <td>...</td>\n",
       "      <td>...</td>\n",
       "      <td>...</td>\n",
       "      <td>...</td>\n",
       "    </tr>\n",
       "    <tr>\n",
       "      <th>95</th>\n",
       "      <td>23121902809150</td>\n",
       "      <td>HIDDEN үйдерінің құрылыс жұмыстарына қатысты</td>\n",
       "      <td>Заявление</td>\n",
       "      <td>\"\"\"2023/12/19 06:41:04.202629000\"\"\"</td>\n",
       "      <td>\"\"\"Государственное учреждение \"\"\"\"Аппарат аким...</td>\n",
       "    </tr>\n",
       "    <tr>\n",
       "      <th>96</th>\n",
       "      <td>23121902809149</td>\n",
       "      <td>На действия сотрудников Учреждение № *</td>\n",
       "      <td>Жалоба</td>\n",
       "      <td>\"\"\"2023/12/19 06:40:55.606491000\"\"\"</td>\n",
       "      <td>\"\"\"республиканское государственное учреждение ...</td>\n",
       "    </tr>\n",
       "    <tr>\n",
       "      <th>97</th>\n",
       "      <td>23121902809148</td>\n",
       "      <td>HIDDEN пәні мұғалімі HIDDEN БЛЖ - дан ** пайыз...</td>\n",
       "      <td>Запрос</td>\n",
       "      <td>\"\"\"2023/12/19 06:40:51.665512000\"\"\"</td>\n",
       "      <td>\"\"\"Государственное учреждение \"\"\"\"Министерство...</td>\n",
       "    </tr>\n",
       "    <tr>\n",
       "      <th>98</th>\n",
       "      <td>23121902809146</td>\n",
       "      <td>Прошу вас предоставить квартиру в связи с подх...</td>\n",
       "      <td>Заявление</td>\n",
       "      <td>\"\"\"2023/12/19 06:40:45.700311000\"\"\"</td>\n",
       "      <td>\"\"\"Государственное учреждение \"\"\"\"Аппарат аким...</td>\n",
       "    </tr>\n",
       "    <tr>\n",
       "      <th>99</th>\n",
       "      <td>23121902809143</td>\n",
       "      <td>пояснение по установке ограждение по Мед р</td>\n",
       "      <td>Заявление</td>\n",
       "      <td>\"\"\"2023/12/19 06:40:14.084105000\"\"\"</td>\n",
       "      <td>\"\"\"Коммунальное государственное учреждение \"\"\"...</td>\n",
       "    </tr>\n",
       "  </tbody>\n",
       "</table>\n",
       "<p>99 rows × 5 columns</p>\n",
       "</div>"
      ],
      "text/plain": [
       "0               id                                               DATA  \\\n",
       "1               id                                         \"\"\"DATA\"\"\"   \n",
       "2   23121902809485        Выписка с индивидуального пенсионного счета   \n",
       "3   23121902809480    Заявление HIDDEN .  о предоставлении информации   \n",
       "4   23121902809477  Просит дать разрешение на проведение мероприят...   \n",
       "5   23121902809474  Заявление на выдачу подтверждения профессионал...   \n",
       "..             ...                                                ...   \n",
       "95  23121902809150      HIDDEN үйдерінің құрылыс жұмыстарына қатысты    \n",
       "96  23121902809149             На действия сотрудников Учреждение № *   \n",
       "97  23121902809148  HIDDEN пәні мұғалімі HIDDEN БЛЖ - дан ** пайыз...   \n",
       "98  23121902809146  Прошу вас предоставить квартиру в связи с подх...   \n",
       "99  23121902809143        пояснение по установке ограждение по Мед р    \n",
       "\n",
       "0         name_tu_type                                 date  \\\n",
       "1   \"\"\"name_tu_type\"\"\"                          \"\"\"date_\"\"\"   \n",
       "2               Запрос  \"\"\"2023/12/19 08:06:20.490209000\"\"\"   \n",
       "3            Заявление  \"\"\"2023/12/19 08:01:57.882288000\"\"\"   \n",
       "4            Заявление  \"\"\"2023/12/19 08:01:10.859904000\"\"\"   \n",
       "5            Заявление  \"\"\"2023/12/19 08:00:44.145921000\"\"\"   \n",
       "..                 ...                                  ...   \n",
       "95           Заявление  \"\"\"2023/12/19 06:41:04.202629000\"\"\"   \n",
       "96              Жалоба  \"\"\"2023/12/19 06:40:55.606491000\"\"\"   \n",
       "97              Запрос  \"\"\"2023/12/19 06:40:51.665512000\"\"\"   \n",
       "98           Заявление  \"\"\"2023/12/19 06:40:45.700311000\"\"\"   \n",
       "99           Заявление  \"\"\"2023/12/19 06:40:14.084105000\"\"\"   \n",
       "\n",
       "0                                         name_ru_org  \n",
       "1                                   \"\"\"name_ru_org\"\"\"  \n",
       "2   \"\"\"Акционерное общество \"\"\"\"Единый накопительн...  \n",
       "3             Костанайский областной филиал АО «ЕНПФ»  \n",
       "4   \"\"\"Государственное учреждение \"\"\"\"Аппарат аким...  \n",
       "5   Республиканское государственное учреждение «Мо...  \n",
       "..                                                ...  \n",
       "95  \"\"\"Государственное учреждение \"\"\"\"Аппарат аким...  \n",
       "96  \"\"\"республиканское государственное учреждение ...  \n",
       "97  \"\"\"Государственное учреждение \"\"\"\"Министерство...  \n",
       "98  \"\"\"Государственное учреждение \"\"\"\"Аппарат аким...  \n",
       "99  \"\"\"Коммунальное государственное учреждение \"\"\"...  \n",
       "\n",
       "[99 rows x 5 columns]"
      ]
     },
     "execution_count": 11,
     "metadata": {},
     "output_type": "execute_result"
    }
   ],
   "source": [
    "df_split"
   ]
  },
  {
   "cell_type": "code",
   "execution_count": null,
   "id": "68879004-9eb3-40c6-b01b-f75f2bd04bdd",
   "metadata": {},
   "outputs": [],
   "source": []
  },
  {
   "cell_type": "code",
   "execution_count": null,
   "id": "213132e9-64c8-4cc7-9843-cf2bb79b70fa",
   "metadata": {},
   "outputs": [],
   "source": []
  },
  {
   "cell_type": "code",
   "execution_count": 14,
   "id": "0b4cf57c-8c22-4cae-9783-0db360cd7593",
   "metadata": {},
   "outputs": [],
   "source": [
    "import pandas as pd"
   ]
  },
  {
   "cell_type": "code",
   "execution_count": 34,
   "id": "ab3b1659-7f69-4fd2-9260-06eccc9c049c",
   "metadata": {},
   "outputs": [
    {
     "name": "stderr",
     "output_type": "stream",
     "text": [
      "Processing rows:  55%|█████████████████████████████▉                        | 1723306/3108677 [04:46<03:50, 6016.45it/s]"
     ]
    },
    {
     "name": "stdout",
     "output_type": "stream",
     "text": [
      "Data successfully processed and saved to ../classi_bank/zfinal_spread.csv.\n"
     ]
    },
    {
     "name": "stderr",
     "output_type": "stream",
     "text": [
      "\n"
     ]
    }
   ],
   "source": [
    "import pandas as pd\n",
    "from tqdm import tqdm\n",
    "\n",
    "# Placeholder for input and output file paths\n",
    "input_file = \"../classi_bank/1sorted.csv\"  # Replace with your input file path\n",
    "output_file = \"../classi_bank/zfinal_spread.csv\"  # Replace with your desired output file path\n",
    "\n",
    "# Chunk size for processing rows\n",
    "chunk_size = 500\n",
    "\n",
    "try:\n",
    "    with open(input_file, 'r', encoding='utf-8') as file:\n",
    "        header = None\n",
    "        # total_lines = sum(1 for _ in fil)  # Count total lines for progress bar\n",
    "        total_lines = 3108677\n",
    "        file.seek(0)  # Reset file pointer to the beginning\n",
    "\n",
    "        with tqdm(total=total_lines, desc=\"Processing rows\") as pbar:\n",
    "            for i, chunk in enumerate(pd.read_csv(file, header=None, encoding='utf-8', on_bad_lines='skip', chunksize=chunk_size)):\n",
    "                # Split the first column into multiple columns using ';' as the separator\n",
    "                df_split = chunk.iloc[:, 0].str.split(';', expand=True)\n",
    "\n",
    "                # Use the first chunk to set column headers if not already set\n",
    "                if header is None:\n",
    "                    header = df_split.iloc[0]  # Save the header row\n",
    "                    df_split.columns = header  # Set column names\n",
    "                    df_split = df_split[1:]  # Remove header row from the first chunk\n",
    "                    modew = 'w'  # Overwrite file for the first chunk\n",
    "                else:\n",
    "                    df_split.columns = header  # Use the previously set headers\n",
    "                    modew = 'a'  # Append subsequent chunks\n",
    "\n",
    "                # Save the resulting DataFrame to the output CSV\n",
    "                df_split.to_csv(output_file, index=False,mode=modew)#, sep=';', encoding='utf-8', mode=modew, header=(mode == 'w'))\n",
    "                # df_split.to_csv(output_file, index=False, sep=';', encoding='utf-8', mode=mode, header=(mode == 'w'), quoting=csv.QUOTE_NONNUMERIC)\n",
    "\n",
    "                last = df_split\n",
    "                # Drop variables to free up RAM\n",
    "                df_split=df_split[0:0]\n",
    "\n",
    "                pbar.update(len(chunk))  # Update progress bar\n",
    "\n",
    "    print(f\"Data successfully processed and saved to {output_file}.\")\n",
    "\n",
    "except Exception as e:\n",
    "    print(f\"Error reading or processing the file: {e}\")\n"
   ]
  },
  {
   "cell_type": "code",
   "execution_count": 35,
   "id": "9cd75f5d-9594-4e83-a039-74f2902c3b95",
   "metadata": {},
   "outputs": [
    {
     "data": {
      "text/html": [
       "<div>\n",
       "<style scoped>\n",
       "    .dataframe tbody tr th:only-of-type {\n",
       "        vertical-align: middle;\n",
       "    }\n",
       "\n",
       "    .dataframe tbody tr th {\n",
       "        vertical-align: top;\n",
       "    }\n",
       "\n",
       "    .dataframe thead th {\n",
       "        text-align: right;\n",
       "    }\n",
       "</style>\n",
       "<table border=\"1\" class=\"dataframe\">\n",
       "  <thead>\n",
       "    <tr style=\"text-align: right;\">\n",
       "      <th></th>\n",
       "      <th>id</th>\n",
       "      <th>DATA</th>\n",
       "      <th>name_tu_type</th>\n",
       "      <th>date</th>\n",
       "      <th>name_ru_org</th>\n",
       "    </tr>\n",
       "  </thead>\n",
       "  <tbody>\n",
       "    <tr>\n",
       "      <th>1723000</th>\n",
       "      <td>21070200471932</td>\n",
       "      <td>земельный участок  в частную собственность  дл...</td>\n",
       "      <td>Заявление</td>\n",
       "      <td>\"\"\"2021/07/02 05:34:25.369208000\"\"\"</td>\n",
       "      <td>Государственное учреждение «Аппарат акима горо...</td>\n",
       "    </tr>\n",
       "    <tr>\n",
       "      <th>1723001</th>\n",
       "      <td>21070200471930</td>\n",
       "      <td>\"\"\"HIDDEN .  :   по вопросу восстановления на ...</td>\n",
       "      <td>Заявление</td>\n",
       "      <td>\"\"\"2021/07/02 05:34:13.966703000\"\"\"</td>\n",
       "      <td>\"\"\"Государственное учреждение \"\"\"\"Аппарат аким...</td>\n",
       "    </tr>\n",
       "    <tr>\n",
       "      <th>1723002</th>\n",
       "      <td>21070200471927</td>\n",
       "      <td>Добрый день !  Просим принять и рассмотреть пи...</td>\n",
       "      <td>Заявление</td>\n",
       "      <td>\"\"\"2021/07/02 05:34:10.019829000\"\"\"</td>\n",
       "      <td>\"\"\"Республиканское государственное учреждение ...</td>\n",
       "    </tr>\n",
       "    <tr>\n",
       "      <th>1723003</th>\n",
       "      <td>21070200471926</td>\n",
       "      <td>\"\"\"HIDDEN ауылдық округіне қарасты \"\"\"\"HIDDEN\"...</td>\n",
       "      <td>Заявление</td>\n",
       "      <td>\"\"\"2021/07/02 05:34:06.923330000\"\"\"</td>\n",
       "      <td>\"\"\"Государственное учреждение \"\"\"\"Аппарат аким...</td>\n",
       "    </tr>\n",
       "    <tr>\n",
       "      <th>1723004</th>\n",
       "      <td>21070200471925</td>\n",
       "      <td>о неисполнении подрядчиком условий договора по...</td>\n",
       "      <td>Заявление</td>\n",
       "      <td>\"\"\"2021/07/02 05:33:49.498960000\"\"\"</td>\n",
       "      <td>\"\"\"Государственное учреждение \"\"\"\"Аппарат аким...</td>\n",
       "    </tr>\n",
       "    <tr>\n",
       "      <th>...</th>\n",
       "      <td>...</td>\n",
       "      <td>...</td>\n",
       "      <td>...</td>\n",
       "      <td>...</td>\n",
       "      <td>...</td>\n",
       "    </tr>\n",
       "    <tr>\n",
       "      <th>1723301</th>\n",
       "      <td>21070100470985</td>\n",
       "      <td>\\tЗапрос по HIDDENым (HIDDEN)</td>\n",
       "      <td>Запрос</td>\n",
       "      <td>\"\"\"2021/07/01 16:26:00.700622000\"\"\"</td>\n",
       "      <td>Управление документационного обеспечения и ана...</td>\n",
       "    </tr>\n",
       "    <tr>\n",
       "      <th>1723302</th>\n",
       "      <td>21070100470984</td>\n",
       "      <td>\\t*** HIDDEN обл .  г .  HIDDENнда г .  HIDDEN...</td>\n",
       "      <td>Запрос</td>\n",
       "      <td>\"\"\"2021/07/01 16:21:47.864126000\"\"\"</td>\n",
       "      <td>Управление документационного обеспечения и ана...</td>\n",
       "    </tr>\n",
       "    <tr>\n",
       "      <th>1723303</th>\n",
       "      <td>21070100470983</td>\n",
       "      <td>\\tПрошу назначите мне до родавой пасобия (HIDDEN)</td>\n",
       "      <td>Заявление</td>\n",
       "      <td>\"\"\"2021/07/01 16:17:31.080508000\"\"\"</td>\n",
       "      <td>Управление документационного обеспечения и ана...</td>\n",
       "    </tr>\n",
       "    <tr>\n",
       "      <th>1723304</th>\n",
       "      <td>21070100470980</td>\n",
       "      <td>\\tо снятии ареста с имущества HIDDEN .  (HIDDEN)</td>\n",
       "      <td>Запрос</td>\n",
       "      <td>\"\"\"2021/07/01 16:14:27.697652000\"\"\"</td>\n",
       "      <td>Управление документационного обеспечения и ана...</td>\n",
       "    </tr>\n",
       "    <tr>\n",
       "      <th>1723305</th>\n",
       "      <td>21070100470979</td>\n",
       "      <td>По вопросу предоставления сведений по земельны...</td>\n",
       "      <td>Запрос</td>\n",
       "      <td>\"\"\"2021/07/01 16:12:49.090241000\"\"\"</td>\n",
       "      <td>\" Отдел документационного обеспечения \"\"210701...</td>\n",
       "    </tr>\n",
       "  </tbody>\n",
       "</table>\n",
       "<p>306 rows × 5 columns</p>\n",
       "</div>"
      ],
      "text/plain": [
       "0                    id                                               DATA  \\\n",
       "1723000  21070200471932  земельный участок  в частную собственность  дл...   \n",
       "1723001  21070200471930  \"\"\"HIDDEN .  :   по вопросу восстановления на ...   \n",
       "1723002  21070200471927  Добрый день !  Просим принять и рассмотреть пи...   \n",
       "1723003  21070200471926  \"\"\"HIDDEN ауылдық округіне қарасты \"\"\"\"HIDDEN\"...   \n",
       "1723004  21070200471925  о неисполнении подрядчиком условий договора по...   \n",
       "...                 ...                                                ...   \n",
       "1723301  21070100470985                      \\tЗапрос по HIDDENым (HIDDEN)   \n",
       "1723302  21070100470984  \\t*** HIDDEN обл .  г .  HIDDENнда г .  HIDDEN...   \n",
       "1723303  21070100470983  \\tПрошу назначите мне до родавой пасобия (HIDDEN)   \n",
       "1723304  21070100470980   \\tо снятии ареста с имущества HIDDEN .  (HIDDEN)   \n",
       "1723305  21070100470979  По вопросу предоставления сведений по земельны...   \n",
       "\n",
       "0       name_tu_type                                 date  \\\n",
       "1723000    Заявление  \"\"\"2021/07/02 05:34:25.369208000\"\"\"   \n",
       "1723001    Заявление  \"\"\"2021/07/02 05:34:13.966703000\"\"\"   \n",
       "1723002    Заявление  \"\"\"2021/07/02 05:34:10.019829000\"\"\"   \n",
       "1723003    Заявление  \"\"\"2021/07/02 05:34:06.923330000\"\"\"   \n",
       "1723004    Заявление  \"\"\"2021/07/02 05:33:49.498960000\"\"\"   \n",
       "...              ...                                  ...   \n",
       "1723301       Запрос  \"\"\"2021/07/01 16:26:00.700622000\"\"\"   \n",
       "1723302       Запрос  \"\"\"2021/07/01 16:21:47.864126000\"\"\"   \n",
       "1723303    Заявление  \"\"\"2021/07/01 16:17:31.080508000\"\"\"   \n",
       "1723304       Запрос  \"\"\"2021/07/01 16:14:27.697652000\"\"\"   \n",
       "1723305       Запрос  \"\"\"2021/07/01 16:12:49.090241000\"\"\"   \n",
       "\n",
       "0                                              name_ru_org  \n",
       "1723000  Государственное учреждение «Аппарат акима горо...  \n",
       "1723001  \"\"\"Государственное учреждение \"\"\"\"Аппарат аким...  \n",
       "1723002  \"\"\"Республиканское государственное учреждение ...  \n",
       "1723003  \"\"\"Государственное учреждение \"\"\"\"Аппарат аким...  \n",
       "1723004  \"\"\"Государственное учреждение \"\"\"\"Аппарат аким...  \n",
       "...                                                    ...  \n",
       "1723301  Управление документационного обеспечения и ана...  \n",
       "1723302  Управление документационного обеспечения и ана...  \n",
       "1723303  Управление документационного обеспечения и ана...  \n",
       "1723304  Управление документационного обеспечения и ана...  \n",
       "1723305  \" Отдел документационного обеспечения \"\"210701...  \n",
       "\n",
       "[306 rows x 5 columns]"
      ]
     },
     "execution_count": 35,
     "metadata": {},
     "output_type": "execute_result"
    }
   ],
   "source": [
    "last"
   ]
  },
  {
   "cell_type": "code",
   "execution_count": 36,
   "id": "e06334a7-fc8e-413a-a054-622ae2d51fd7",
   "metadata": {},
   "outputs": [],
   "source": [
    "che=pd.read_csv(output_file,nrows=500)"
   ]
  },
  {
   "cell_type": "code",
   "execution_count": 37,
   "id": "8ef1be1e-3778-4895-b719-5216afa35e6f",
   "metadata": {},
   "outputs": [
    {
     "data": {
      "text/plain": [
       "<bound method DataFrame.info of                  id                                               DATA  \\\n",
       "0                id                                         \"\"\"DATA\"\"\"   \n",
       "1    23121902809485        Выписка с индивидуального пенсионного счета   \n",
       "2    23121902809480    Заявление HIDDEN .  о предоставлении информации   \n",
       "3    23121902809477  Просит дать разрешение на проведение мероприят...   \n",
       "4    23121902809474  Заявление на выдачу подтверждения профессионал...   \n",
       "..              ...                                                ...   \n",
       "495  23121802807993  О принятии мер по факту предвзятого рассмотрен...   \n",
       "496  23121802807990  О принятии мер по факту предвзятого рассмотрен...   \n",
       "497  23121802807988  О принятии мер по обеспечению законности прове...   \n",
       "498  23121802807978  завершение подключения к Интернету до ** декаб...   \n",
       "499              id                                               DATA   \n",
       "\n",
       "           name_tu_type                                 date  \\\n",
       "0    \"\"\"name_tu_type\"\"\"                          \"\"\"date_\"\"\"   \n",
       "1                Запрос  \"\"\"2023/12/19 08:06:20.490209000\"\"\"   \n",
       "2             Заявление  \"\"\"2023/12/19 08:01:57.882288000\"\"\"   \n",
       "3             Заявление  \"\"\"2023/12/19 08:01:10.859904000\"\"\"   \n",
       "4             Заявление  \"\"\"2023/12/19 08:00:44.145921000\"\"\"   \n",
       "..                  ...                                  ...   \n",
       "495           Заявление  \"\"\"2023/12/18 19:53:58.711893000\"\"\"   \n",
       "496           Заявление  \"\"\"2023/12/18 19:50:55.869929000\"\"\"   \n",
       "497           Заявление  \"\"\"2023/12/18 19:48:53.698446000\"\"\"   \n",
       "498           Заявление  \"\"\"2023/12/18 19:41:40.872480000\"\"\"   \n",
       "499        name_tu_type                                 date   \n",
       "\n",
       "                                           name_ru_org  \n",
       "0                                    \"\"\"name_ru_org\"\"\"  \n",
       "1    \"\"\"Акционерное общество \"\"\"\"Единый накопительн...  \n",
       "2              Костанайский областной филиал АО «ЕНПФ»  \n",
       "3    \"\"\"Государственное учреждение \"\"\"\"Аппарат аким...  \n",
       "4    Республиканское государственное учреждение «Мо...  \n",
       "..                                                 ...  \n",
       "495  \"\"\"республиканское государственное учреждение ...  \n",
       "496  \"\"\"Государственное учреждение \"\"\"\"Генеральная ...  \n",
       "497  \"\"\"Государственное учреждение \"\"\"\"Прокуратура ...  \n",
       "498  \"\"\"Акционерное общество АО \"\"\"\"Казахтелеком\"\"\"...  \n",
       "499                                        name_ru_org  \n",
       "\n",
       "[500 rows x 5 columns]>"
      ]
     },
     "execution_count": 37,
     "metadata": {},
     "output_type": "execute_result"
    }
   ],
   "source": [
    "che.info"
   ]
  },
  {
   "cell_type": "code",
   "execution_count": 38,
   "id": "fd52064c-d2ae-4671-b5dd-224a14a97ed4",
   "metadata": {},
   "outputs": [
    {
     "data": {
      "text/plain": [
       "id                                                 23121902809485\n",
       "DATA                  Выписка с индивидуального пенсионного счета\n",
       "name_tu_type                                               Запрос\n",
       "date                          \"\"\"2023/12/19 08:06:20.490209000\"\"\"\n",
       "name_ru_org     \"\"\"Акционерное общество \"\"\"\"Единый накопительн...\n",
       "Name: 1, dtype: object"
      ]
     },
     "execution_count": 38,
     "metadata": {},
     "output_type": "execute_result"
    }
   ],
   "source": [
    "che.loc[1]"
   ]
  }
 ],
 "metadata": {
  "kernelspec": {
   "display_name": "Python 3 (ipykernel)",
   "language": "python",
   "name": "python3"
  },
  "language_info": {
   "codemirror_mode": {
    "name": "ipython",
    "version": 3
   },
   "file_extension": ".py",
   "mimetype": "text/x-python",
   "name": "python",
   "nbconvert_exporter": "python",
   "pygments_lexer": "ipython3",
   "version": "3.10.12"
  }
 },
 "nbformat": 4,
 "nbformat_minor": 5
}
