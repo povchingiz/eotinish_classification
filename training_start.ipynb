{
 "cells": [
  {
   "cell_type": "code",
   "execution_count": null,
   "metadata": {
    "vscode": {
     "languageId": "plaintext"
    }
   },
   "outputs": [],
   "source": [
    "import pandas as pd\n",
    "from sklearn.model_selection import train_test_split\n",
    "from sklearn.feature_extraction.text import TfidfVectorizer\n",
    "from sklearn.ensemble import RandomForestClassifier\n",
    "from sklearn.metrics import accuracy_score, classification_report\n",
    "from nltk.sentiment import SentimentIntensityAnalyzer\n",
    "import nltk"
   ]
  },
  {
   "cell_type": "code",
   "execution_count": null,
   "metadata": {
    "vscode": {
     "languageId": "plaintext"
    }
   },
   "outputs": [],
   "source": [
    "nltk.download('vader_lexicon')"
   ]
  },
  {
   "cell_type": "code",
   "execution_count": null,
   "metadata": {
    "vscode": {
     "languageId": "plaintext"
    }
   },
   "outputs": [],
   "source": [
    "data = pd.read_csv(\"user_requests.csv\")  # Должен содержать колонки 'text' и 'category'\n",
    "texts = data['text']\n",
    "labels = data['category']\n",
    "\n",
    "# Опциональный анализ тональности\n",
    "sentiment_analyzer = SentimentIntensityAnalyzer()\n",
    "\n",
    "def add_sentiment_score(text):\n",
    "    sentiment_score = sentiment_analyzer.polarity_scores(text)\n",
    "    return sentiment_score['compound']\n",
    "\n",
    "data['sentiment'] = texts.apply(add_sentiment_score)\n",
    "\n",
    "# Разделение на обучающую и тестовую выборки\n",
    "X_train, X_test, y_train, y_test = train_test_split(data[['text', 'sentiment']], labels, test_size=0.2, random_state=42)\n",
    "\n",
    "# Преобразование текстов в TF-IDF\n",
    "vectorizer = TfidfVectorizer(max_features=5000)\n",
    "X_train_tfidf = vectorizer.fit_transform(X_train['text']).toarray()\n",
    "X_test_tfidf = vectorizer.transform(X_test['text']).toarray()\n",
    "\n",
    "# Добавление признака тональности к TF-IDF\n",
    "X_train_combined = pd.DataFrame(X_train_tfidf)\n",
    "X_train_combined['sentiment'] = X_train['sentiment'].values\n",
    "X_test_combined = pd.DataFrame(X_test_tfidf)\n",
    "X_test_combined['sentiment'] = X_test['sentiment'].values\n",
    "\n",
    "# Обучение классификатора\n",
    "model = RandomForestClassifier(n_estimators=100, random_state=42)\n",
    "model.fit(X_train_combined, y_train)\n",
    "\n",
    "# Оценка модели\n",
    "y_pred = model.predict(X_test_combined)\n",
    "print(\"Accuracy:\", accuracy_score(y_test, y_pred))\n",
    "print(classification_report(y_test, y_pred))\n"
   ]
  }
 ],
 "metadata": {
  "language_info": {
   "name": "python"
  }
 },
 "nbformat": 4,
 "nbformat_minor": 2
}
